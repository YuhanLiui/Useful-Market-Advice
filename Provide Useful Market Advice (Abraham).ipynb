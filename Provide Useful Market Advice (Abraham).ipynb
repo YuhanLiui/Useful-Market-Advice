{
 "cells": [
  {
   "cell_type": "markdown",
   "id": "93944cee",
   "metadata": {
    "id": "62929645"
   },
   "source": [
    "# · Overall Description\n",
    "\n",
    "​\tBased on the given data here, our main goal is to provide useful market analysis for the managers, helping them make more optimal decisions to gain more profits. Trying to figure out this problem and obtain meaningful information as much as possible, our team chose six sub-question here. When finishing these questions sequently, we are able to get a better understanding of the sales. By gathering all the conclusions drawn from each question, we can give general and instructive suggestions."
   ]
  },
  {
   "cell_type": "markdown",
   "id": "aa81eee5",
   "metadata": {},
   "source": [
    "## · Introduction\n",
    "\n",
    "​\tBefore we start to use specific technics or mathemetical models, we are supposed to implement data processing since we only get the rough datas here. By filtering and analysing, we can obtain datas which are more meaningful. After having a full understanding of the specific meanings of datas, we then complete our work in the following steps."
   ]
  },
  {
   "cell_type": "markdown",
   "id": "69c21caa",
   "metadata": {},
   "source": [
    "​\tImport all the necessary packges"
   ]
  },
  {
   "cell_type": "code",
   "execution_count": 2,
   "id": "25b36b95",
   "metadata": {
    "id": "e5589af6"
   },
   "outputs": [],
   "source": [
    "import sklearn\n",
    "import pandas as pd\n",
    "import matplotlib as plt \n",
    "import numpy as np\n",
    "import seaborn as sns\n",
    "import matplotlib.pyplot as plt\n"
   ]
  },
  {
   "cell_type": "markdown",
   "id": "3e77a250",
   "metadata": {},
   "source": [
    "​\tDownload the original datas and drop the first three columns since we find them useless. And we show the first several rows of datas."
   ]
  },
  {
   "cell_type": "code",
   "execution_count": 4,
   "id": "39246073",
   "metadata": {},
   "outputs": [
    {
     "data": {
      "text/html": [
       "<div>\n",
       "<style scoped>\n",
       "    .dataframe tbody tr th:only-of-type {\n",
       "        vertical-align: middle;\n",
       "    }\n",
       "\n",
       "    .dataframe tbody tr th {\n",
       "        vertical-align: top;\n",
       "    }\n",
       "\n",
       "    .dataframe thead th {\n",
       "        text-align: right;\n",
       "    }\n",
       "</style>\n",
       "<table border=\"1\" class=\"dataframe\">\n",
       "  <thead>\n",
       "    <tr style=\"text-align: right;\">\n",
       "      <th></th>\n",
       "      <th>SHOP_WEEK</th>\n",
       "      <th>SHOP_DATE</th>\n",
       "      <th>SHOP_WEEKDAY</th>\n",
       "      <th>SHOP_HOUR</th>\n",
       "      <th>QUANTITY</th>\n",
       "      <th>SPEND</th>\n",
       "      <th>PROD_CODE</th>\n",
       "      <th>PROD_CODE_10</th>\n",
       "      <th>PROD_CODE_20</th>\n",
       "      <th>PROD_CODE_30</th>\n",
       "      <th>...</th>\n",
       "      <th>CUST_PRICE_SENSITIVITY</th>\n",
       "      <th>CUST_LIFESTAGE</th>\n",
       "      <th>BASKET_ID</th>\n",
       "      <th>BASKET_SIZE</th>\n",
       "      <th>BASKET_PRICE_SENSITIVITY</th>\n",
       "      <th>BASKET_TYPE</th>\n",
       "      <th>BASKET_DOMINANT_MISSION</th>\n",
       "      <th>STORE_CODE</th>\n",
       "      <th>STORE_FORMAT</th>\n",
       "      <th>STORE_REGION</th>\n",
       "    </tr>\n",
       "  </thead>\n",
       "  <tbody>\n",
       "    <tr>\n",
       "      <th>0</th>\n",
       "      <td>200801</td>\n",
       "      <td>20080227</td>\n",
       "      <td>4</td>\n",
       "      <td>21</td>\n",
       "      <td>1</td>\n",
       "      <td>1.83</td>\n",
       "      <td>PRD0900159</td>\n",
       "      <td>CL00029</td>\n",
       "      <td>DEP00008</td>\n",
       "      <td>G00004</td>\n",
       "      <td>...</td>\n",
       "      <td>MM</td>\n",
       "      <td>OT</td>\n",
       "      <td>9.941100e+14</td>\n",
       "      <td>M</td>\n",
       "      <td>UM</td>\n",
       "      <td>Small Shop</td>\n",
       "      <td>Fresh</td>\n",
       "      <td>STORE00001</td>\n",
       "      <td>LS</td>\n",
       "      <td>E02</td>\n",
       "    </tr>\n",
       "    <tr>\n",
       "      <th>1</th>\n",
       "      <td>200801</td>\n",
       "      <td>20080227</td>\n",
       "      <td>4</td>\n",
       "      <td>21</td>\n",
       "      <td>1</td>\n",
       "      <td>0.86</td>\n",
       "      <td>PRD0900531</td>\n",
       "      <td>CL00026</td>\n",
       "      <td>DEP00008</td>\n",
       "      <td>G00004</td>\n",
       "      <td>...</td>\n",
       "      <td>MM</td>\n",
       "      <td>OT</td>\n",
       "      <td>9.941100e+14</td>\n",
       "      <td>M</td>\n",
       "      <td>UM</td>\n",
       "      <td>Small Shop</td>\n",
       "      <td>Fresh</td>\n",
       "      <td>STORE00001</td>\n",
       "      <td>LS</td>\n",
       "      <td>E02</td>\n",
       "    </tr>\n",
       "    <tr>\n",
       "      <th>2</th>\n",
       "      <td>200801</td>\n",
       "      <td>20080226</td>\n",
       "      <td>3</td>\n",
       "      <td>16</td>\n",
       "      <td>1</td>\n",
       "      <td>1.12</td>\n",
       "      <td>PRD0900925</td>\n",
       "      <td>CL00035</td>\n",
       "      <td>DEP00009</td>\n",
       "      <td>G00004</td>\n",
       "      <td>...</td>\n",
       "      <td>NaN</td>\n",
       "      <td>NaN</td>\n",
       "      <td>9.941100e+14</td>\n",
       "      <td>M</td>\n",
       "      <td>UM</td>\n",
       "      <td>Small Shop</td>\n",
       "      <td>Fresh</td>\n",
       "      <td>STORE00001</td>\n",
       "      <td>LS</td>\n",
       "      <td>E02</td>\n",
       "    </tr>\n",
       "    <tr>\n",
       "      <th>3</th>\n",
       "      <td>200801</td>\n",
       "      <td>20080228</td>\n",
       "      <td>5</td>\n",
       "      <td>19</td>\n",
       "      <td>3</td>\n",
       "      <td>3.42</td>\n",
       "      <td>PRD0901465</td>\n",
       "      <td>CL00005</td>\n",
       "      <td>DEP00002</td>\n",
       "      <td>G00001</td>\n",
       "      <td>...</td>\n",
       "      <td>MM</td>\n",
       "      <td>OA</td>\n",
       "      <td>9.941100e+14</td>\n",
       "      <td>M</td>\n",
       "      <td>UM</td>\n",
       "      <td>Small Shop</td>\n",
       "      <td>Fresh</td>\n",
       "      <td>STORE00001</td>\n",
       "      <td>LS</td>\n",
       "      <td>E02</td>\n",
       "    </tr>\n",
       "    <tr>\n",
       "      <th>4</th>\n",
       "      <td>200801</td>\n",
       "      <td>20080227</td>\n",
       "      <td>4</td>\n",
       "      <td>21</td>\n",
       "      <td>1</td>\n",
       "      <td>0.97</td>\n",
       "      <td>PRD0902700</td>\n",
       "      <td>CL00042</td>\n",
       "      <td>DEP00011</td>\n",
       "      <td>G00004</td>\n",
       "      <td>...</td>\n",
       "      <td>MM</td>\n",
       "      <td>OT</td>\n",
       "      <td>9.941100e+14</td>\n",
       "      <td>M</td>\n",
       "      <td>UM</td>\n",
       "      <td>Small Shop</td>\n",
       "      <td>Fresh</td>\n",
       "      <td>STORE00001</td>\n",
       "      <td>LS</td>\n",
       "      <td>E02</td>\n",
       "    </tr>\n",
       "  </tbody>\n",
       "</table>\n",
       "<p>5 rows × 22 columns</p>\n",
       "</div>"
      ],
      "text/plain": [
       "   SHOP_WEEK  SHOP_DATE  SHOP_WEEKDAY  SHOP_HOUR  QUANTITY  SPEND   PROD_CODE  \\\n",
       "0     200801   20080227             4         21         1   1.83  PRD0900159   \n",
       "1     200801   20080227             4         21         1   0.86  PRD0900531   \n",
       "2     200801   20080226             3         16         1   1.12  PRD0900925   \n",
       "3     200801   20080228             5         19         3   3.42  PRD0901465   \n",
       "4     200801   20080227             4         21         1   0.97  PRD0902700   \n",
       "\n",
       "  PROD_CODE_10 PROD_CODE_20 PROD_CODE_30  ... CUST_PRICE_SENSITIVITY  \\\n",
       "0      CL00029     DEP00008       G00004  ...                     MM   \n",
       "1      CL00026     DEP00008       G00004  ...                     MM   \n",
       "2      CL00035     DEP00009       G00004  ...                    NaN   \n",
       "3      CL00005     DEP00002       G00001  ...                     MM   \n",
       "4      CL00042     DEP00011       G00004  ...                     MM   \n",
       "\n",
       "  CUST_LIFESTAGE     BASKET_ID BASKET_SIZE  BASKET_PRICE_SENSITIVITY  \\\n",
       "0             OT  9.941100e+14           M                        UM   \n",
       "1             OT  9.941100e+14           M                        UM   \n",
       "2            NaN  9.941100e+14           M                        UM   \n",
       "3             OA  9.941100e+14           M                        UM   \n",
       "4             OT  9.941100e+14           M                        UM   \n",
       "\n",
       "  BASKET_TYPE BASKET_DOMINANT_MISSION  STORE_CODE STORE_FORMAT STORE_REGION  \n",
       "0  Small Shop                   Fresh  STORE00001           LS          E02  \n",
       "1  Small Shop                   Fresh  STORE00001           LS          E02  \n",
       "2  Small Shop                   Fresh  STORE00001           LS          E02  \n",
       "3  Small Shop                   Fresh  STORE00001           LS          E02  \n",
       "4  Small Shop                   Fresh  STORE00001           LS          E02  \n",
       "\n",
       "[5 rows x 22 columns]"
      ]
     },
     "execution_count": 4,
     "metadata": {},
     "output_type": "execute_result"
    }
   ],
   "source": [
    "data = pd.read_csv('./customer_data_small01.csv')\n",
    "data.dtypes\n",
    "data.head()"
   ]
  },
  {
   "cell_type": "markdown",
   "id": "c518821a",
   "metadata": {
    "id": "5a36b6bb"
   },
   "source": [
    "1. What day and time do the stores need more workforce  (schesuling)? Please give some advice on scheduling of workforce.\n",
    "\n"
   ]
  },
  {
   "cell_type": "markdown",
   "id": "b3f3b5ea",
   "metadata": {},
   "source": [
    "For question 1, our idea is to obtain the reference amount of a labor force by calculating the average value of orders in different regions and different periods of time. First, we calculated how many days of data were counted in the data set."
   ]
  },
  {
   "cell_type": "code",
   "execution_count": 5,
   "id": "f1f1a5ec",
   "metadata": {
    "id": "3db6be51"
   },
   "outputs": [
    {
     "name": "stdout",
     "output_type": "stream",
     "text": [
      "W02    6319\n",
      "N01    6016\n",
      "S02    5595\n",
      "N03    5540\n",
      "S01    4900\n",
      "S03    4683\n",
      "N02    4629\n",
      "W01    4589\n",
      "E01    4398\n",
      "E02    3817\n",
      "W03    3719\n",
      "E03    3708\n",
      "Name: STORE_REGION, dtype: int64\n"
     ]
    }
   ],
   "source": [
    "data.drop_duplicates(inplace=True)  # cleaning duplication values\n",
    "data1 = data[['SHOP_WEEKDAY', 'SHOP_HOUR', 'STORE_REGION','CUST_LIFESTAGE']]#extract the data we need\n",
    "data1 = data1.dropna()  # drop NA data\n",
    "# count the accumulative product sale in different regions\n",
    "print(data1['STORE_REGION'].value_counts())"
   ]
  },
  {
   "cell_type": "code",
   "execution_count": 6,
   "id": "1f212987",
   "metadata": {},
   "outputs": [
    {
     "data": {
      "text/plain": [
       "5     6319\n",
       "6     6016\n",
       "9     5595\n",
       "10    5540\n",
       "4     4900\n",
       "11    4683\n",
       "8     4629\n",
       "1     4589\n",
       "2     4398\n",
       "0     3817\n",
       "7     3719\n",
       "3     3708\n",
       "Name: STORE_REGION, dtype: int64"
      ]
     },
     "execution_count": 6,
     "metadata": {},
     "output_type": "execute_result"
    }
   ],
   "source": [
    "data1['STORE_REGION'] = data1.STORE_REGION.factorize()[0]#numberlize string lable \n",
    "data1['STORE_REGION'].value_counts()\n"
   ]
  },
  {
   "cell_type": "code",
   "execution_count": 7,
   "id": "b64dcd69",
   "metadata": {},
   "outputs": [
    {
     "name": "stdout",
     "output_type": "stream",
     "text": [
      "0        0\n",
      "1        0\n",
      "3        0\n",
      "4        0\n",
      "5        0\n",
      "        ..\n",
      "80656    0\n",
      "80657    0\n",
      "80658    0\n",
      "80659    0\n",
      "80660    0\n",
      "Name: STORE_REGION, Length: 57913, dtype: int64\n",
      "4    16185\n",
      "3    15178\n",
      "2    14627\n",
      "1    11923\n",
      "Name: STORE_REGION, dtype: int64\n"
     ]
    }
   ],
   "source": [
    "a = []\n",
    "print(data1['STORE_REGION'])\n",
    "for i in data1['STORE_REGION']:\n",
    "      if (i == 2 or i == 0 or i == 3):\n",
    "          a.append(1)\n",
    "      elif (i == 1 or i == 5 or i == 7):\n",
    "          a.append(2)\n",
    "      elif (i == 4 or i == 9 or i == 11):\n",
    "          a.append(3)\n",
    "      else:\n",
    "          a.append(4)#\n",
    "\n",
    "data1['STORE_REGION'] = a\n",
    "\n",
    "print(data1['STORE_REGION'].value_counts())"
   ]
  },
  {
   "cell_type": "code",
   "execution_count": 8,
   "id": "4d18b85c",
   "metadata": {},
   "outputs": [
    {
     "name": "stdout",
     "output_type": "stream",
     "text": [
      "       SHOP_WEEKDAY  SHOP_HOUR  STORE_REGION CUST_LIFESTAGE\n",
      "0                 4         21             1             OT\n",
      "1                 4         21             1             OT\n",
      "3                 5         19             1             OA\n",
      "4                 4         21             1             OT\n",
      "5                 2         17             1             OA\n",
      "...             ...        ...           ...            ...\n",
      "80656             4         14             1             OT\n",
      "80657             4         14             1             OT\n",
      "80658             1         20             1             YF\n",
      "80659             4         14             1             OT\n",
      "80660             1         20             1             YF\n",
      "\n",
      "[57913 rows x 4 columns]\n"
     ]
    }
   ],
   "source": [
    "print(data1)"
   ]
  },
  {
   "cell_type": "code",
   "execution_count": 9,
   "id": "f05a646a",
   "metadata": {},
   "outputs": [],
   "source": [
    "datas2 = data1[['SHOP_WEEKDAY', 'STORE_REGION']].value_counts()\n",
    "datas1 = data1[['SHOP_HOUR', 'STORE_REGION']].value_counts()\n",
    "\n",
    "countvalue=pd.DataFrame(datas1)\n",
    "countvalue\n",
    "\n",
    "outputpath001 = 'd:/001.csv'\n",
    "countvalue.to_csv(outputpath001, sep=',', index=True, header=True)\n",
    "countvalue = pd.DataFrame(datas2)\n",
    "countvalue\n",
    "outputpath002 = 'd:/002.csv'\n",
    "countvalue.to_csv(outputpath002, sep=',', index=True, header=True)"
   ]
  },
  {
   "cell_type": "code",
   "execution_count": 10,
   "id": "8a6a6e86",
   "metadata": {},
   "outputs": [],
   "source": [
    "df1 = pd.read_csv('d:/001.csv')\n",
    "df2 = pd.read_csv('d:/002.csv')\n",
    "\n",
    "Z1 = np.zeros(shape=(12, 24))\n",
    "\n",
    "for i in range(len(df1['SHOP_HOUR'])):\n",
    "    Z1[df1.iloc[i, 1]][df1.iloc[i, 0]] = df1.iloc[i, 2]\n"
   ]
  },
  {
   "cell_type": "code",
   "execution_count": 12,
   "id": "998d5fa3",
   "metadata": {},
   "outputs": [
    {
     "data": {
      "image/png": "[encoded data removed]",
      "text/plain": [
       "<Figure size 432x288 with 1 Axes>"
      ]
     },
     "metadata": {
      "needs_background": "light"
     },
     "output_type": "display_data"
    }
   ],
   "source": [
    "#count the data\n",
    "from mpl_toolkits.mplot3d import Axes3D\n",
    "\n",
    "X = np.arange(0, 12, step=1)\n",
    "Y = np.arange(0, 24, step=1) \n",
    "\n",
    "xx, yy = np.meshgrid(X, Y) \n",
    "X, Y = xx.ravel(), yy.ravel()  \n",
    "\n",
    "bottom = np.zeros_like(X) \n",
    "Z1 = Z1.ravel()  \n",
    "\n",
    "width = 1\n",
    "height = 1  \n",
    "\n",
    "\n",
    "fig = plt.figure()\n",
    "ax = fig.gca(projection='3d')\n",
    "ax.bar3d(X, Y, bottom, width, height, Z1, shade=True)\n",
    "\n",
    "ax.set_xlabel('REGION')\n",
    "ax.set_ylabel('HOUR')\n",
    "ax.set_zlabel('SUM')\n",
    "plt.show()\n",
    "\n"
   ]
  },
  {
   "cell_type": "code",
   "execution_count": 13,
   "id": "3e9bfc81",
   "metadata": {},
   "outputs": [
    {
     "data": {
      "image/png": "[encoded data removed]",
      "text/plain": [
       "<Figure size 432x288 with 1 Axes>"
      ]
     },
     "metadata": {
      "needs_background": "light"
     },
     "output_type": "display_data"
    }
   ],
   "source": [
    "from mpl_toolkits.mplot3d import Axes3D\n",
    "Z2 = np.zeros(shape=(12, 7))\n",
    "\n",
    "for i in range(len(df2['SHOP_WEEKDAY'])):\n",
    "    Z2[df2.iloc[i, 1]][df2.iloc[i, 0]-1] = df2.iloc[i, 2]\n",
    "\n",
    "\n",
    "X = np.arange(0, 12, step=1) \n",
    "Y = np.arange(1, 8, step=1) \n",
    "\n",
    "xx, yy = np.meshgrid(X, Y)  \n",
    "X, Y = xx.ravel(), yy.ravel()  \n",
    "\n",
    "bottom = np.zeros_like(X)  \n",
    "Z2 = Z2.ravel()  \n",
    "\n",
    "width = 1\n",
    "height = 1  \n",
    "\n",
    "\n",
    "fig = plt.figure()\n",
    "ax = fig.gca(projection='3d')  \n",
    "ax.bar3d(X, Y, bottom, width, height, Z2, shade=True)\n",
    "\n",
    "ax.set_xlabel('REGION')\n",
    "ax.set_ylabel('WEEKDAY')\n",
    "ax.set_zlabel('SUM')\n",
    "plt.show()\n"
   ]
  },
  {
   "cell_type": "code",
   "execution_count": 14,
   "id": "a85801ed",
   "metadata": {},
   "outputs": [
    {
     "name": "stdout",
     "output_type": "stream",
     "text": [
      "              0\n",
      "5      20080225\n",
      "2      20080226\n",
      "0      20080227\n",
      "3      20080228\n",
      "102    20080229\n",
      "31     20080301\n",
      "15     20080302\n",
      "26511  20080303\n",
      "26534  20080304\n",
      "26555  20080305\n",
      "26510  20080306\n",
      "26514  20080307\n",
      "26539  20080308\n",
      "26712  20080309\n",
      "53771  20080310\n",
      "53811  20080311\n",
      "53772  20080312\n",
      "53774  20080313\n",
      "53826  20080314\n",
      "53773  20080315\n",
      "53868  20080316\n",
      "21\n"
     ]
    }
   ],
   "source": [
    "from datetime import datetime\n",
    "from pandas.core.frame import DataFrame\n",
    "\n",
    "\n",
    "def formateDate(stringdate):\n",
    "  \n",
    "    dt = datetime.strptime(stringdate, '%Y%m%d')\n",
    "    return dt\n",
    "\n",
    " = []\n",
    "for item in data.SHOP_DATE.tolist():\n",
    "    try:\n",
    "        b.append(str(item))\n",
    "    except:\n",
    "        b.append('NaN')\n",
    "\n",
    "b_datetime = [datetime.strptime(x, '%Y%m%d') for x in b]\n",
    "\n",
    "\n",
    "data.time = DataFrame(b_datetime)\n",
    "data.time.dtypes\n",
    "\n",
    "datatime = DataFrame(b)\n",
    "datatime.drop_duplicates(subset=0, inplace=True)\n",
    "datatime.sort_values(by=0, axis=0, ascending=True, inplace=True)\n",
    "print(datatime)\n",
    "print(len(datatime))\n"
   ]
  },
  {
   "cell_type": "markdown",
   "id": "5d2e15f0",
   "metadata": {},
   "source": [
    "\n",
    "Then we divide those shops by regions. That is to figure out the the information in different regions because region is what really matters.\n",
    "\n",
    "These graphs show the average number of goods sold for each day of the week in these four regions which is east, west, south and north.\n",
    "\n",
    "Through these 8 graphs, you can get the day of the week and when of the day different regions need more labor."
   ]
  },
  {
   "cell_type": "code",
   "execution_count": null,
   "id": "a3f469dc",
   "metadata": {},
   "outputs": [
    {
     "data": {
      "image/png": "[encoded data removed]",
      "text/plain": [
       "<Figure size 432x288 with 1 Axes>"
      ]
     },
     "metadata": {
      "needs_background": "light"
     },
     "output_type": "display_data"
    }
   ],
   "source": [
    "dff1 = df1.copy(deep=True)\n",
    "dff1.sort_values(by='SHOP_HOUR', axis=0, ascending=True, inplace=True)\n",
    "\n",
    "dff2 = df2.copy(deep=True)\n",
    "dff2.sort_values(by='SHOP_WEEKDAY', axis=0, ascending=True, inplace=True)\n",
    "\n",
    "\n",
    "\n",
    "df11 = df1[df1['STORE_REGION'] == 1]\n",
    "df12 = df1[df1['STORE_REGION'] == 2]\n",
    "df13 = df1[df1['STORE_REGION'] == 3]\n",
    "df14 = df1[df1['STORE_REGION'] == 4]\n",
    "\n",
    "dff11 = dff1[dff1['STORE_REGION'] == 1]\n",
    "dff12 = dff1[dff1['STORE_REGION'] == 2]\n",
    "dff13 = dff1[dff1['STORE_REGION'] == 3]\n",
    "dff14 = dff1[dff1['STORE_REGION'] == 4]\n",
    "\n",
    "\n",
    "df21 = df2[df2['STORE_REGION'] == 1]\n",
    "df22 = df2[df2['STORE_REGION'] == 2]\n",
    "df23 = df2[df2['STORE_REGION'] == 3]\n",
    "df24 = df2[df2['STORE_REGION'] == 4]\n",
    "\n",
    "dff21 = dff2[dff2['STORE_REGION'] == 1]\n",
    "dff22 = dff2[dff2['STORE_REGION'] == 2]\n",
    "dff23 = dff2[dff2['STORE_REGION'] == 3]\n",
    "dff24 = dff2[dff2['STORE_REGION'] == 4]\n",
    "\n",
    "#plt.hist(df11['0'],density=True,rwidth=0.96)\n",
    "\n",
    "\n",
    "plt.ylabel('PROD_SALE_AVE')\n",
    "plt.title('EAST ZONE')\n",
    "plt.bar(x=range(len(dff11['0'])),  \n",
    "        height=dff11['0']/21, \n",
    "        tick_label=dff11['SHOP_HOUR'], \n",
    "        color='green',  \n",
    "        )\n",
    "plt.xlabel('HOUR')\n",
    "\n",
    "plt.show()\n"
   ]
  },
  {
   "cell_type": "code",
   "execution_count": null,
   "id": "11cd891e",
   "metadata": {},
   "outputs": [
    {
     "data": {
      "image/png": "[encoded data removed]",
      "text/plain": [
       "<Figure size 432x288 with 1 Axes>"
      ]
     },
     "metadata": {
      "needs_background": "light"
     },
     "output_type": "display_data"
    }
   ],
   "source": [
    "\n",
    "plt.ylabel('PROD_SALE_AVE')\n",
    "plt.title('WEST ZONE')\n",
    "plt.bar(x=range(len(dff12['0'])),          height=dff12['0']/21,  \n",
    "        tick_label=dff12['SHOP_HOUR'],  \n",
    "        color='green',  \n",
    "        )\n",
    "plt.xlabel('HOUR')\n",
    "\n",
    "plt.show()\n"
   ]
  },
  {
   "cell_type": "code",
   "execution_count": null,
   "id": "1280360a",
   "metadata": {},
   "outputs": [
    {
     "data": {
      "image/png": "[encoded data removed]",
      "text/plain": [
       "<Figure size 432x288 with 1 Axes>"
      ]
     },
     "metadata": {
      "needs_background": "light"
     },
     "output_type": "display_data"
    }
   ],
   "source": [
    "\n",
    "plt.ylabel('PROD_SALE_AVE')\n",
    "plt.title('SOUTH ZONE')\n",
    "plt.bar(x=range(len(dff13['0'])),  \n",
    "        height=dff13['0']/21,  \n",
    "        tick_label=dff13['SHOP_HOUR'], \n",
    "        color='green', \n",
    "        )\n",
    "plt.xlabel('HOUR')\n",
    "\n",
    "plt.show()\n"
   ]
  },
  {
   "cell_type": "code",
   "execution_count": null,
   "id": "88bb0e4b",
   "metadata": {},
   "outputs": [
    {
     "data": {
      "image/png": "[encoded data removed]",
      "text/plain": [
       "<Figure size 432x288 with 1 Axes>"
      ]
     },
     "metadata": {
      "needs_background": "light"
     },
     "output_type": "display_data"
    }
   ],
   "source": [
    "\n",
    "plt.ylabel('PROD_SALE_AVE')\n",
    "plt.title('NORTH ZONE')\n",
    "plt.bar(x=range(len(dff14['0'])), \n",
    "        height=dff14['0']/21,  \n",
    "        tick_label=dff14['SHOP_HOUR'],  \n",
    "        color='green', \n",
    "        )\n",
    "plt.xlabel('HOUR')\n",
    "\n",
    "plt.show()\n"
   ]
  },
  {
   "cell_type": "code",
   "execution_count": null,
   "id": "60b5bd20",
   "metadata": {},
   "outputs": [
    {
     "data": {
      "image/png": "[encoded data removed]",
      "text/plain": [
       "<Figure size 432x288 with 1 Axes>"
      ]
     },
     "metadata": {
      "needs_background": "light"
     },
     "output_type": "display_data"
    }
   ],
   "source": [
    "\n",
    "plt.title('EAST ZONE')\n",
    "plt.ylabel('PROD_SALE_AVE')\n",
    "plt.xlabel('WEEKDAY')\n",
    "\n",
    "plt.bar(x=range(len(dff21['0'])), \n",
    "        height=dff21['0']/3,  \n",
    "        tick_label=dff21['SHOP_WEEKDAY'],\n",
    "        color='green', \n",
    "        )\n",
    "plt.show()\n"
   ]
  },
  {
   "cell_type": "code",
   "execution_count": null,
   "id": "af2893d4",
   "metadata": {},
   "outputs": [
    {
     "data": {
      "image/png": "[encoded data removed]",
      "text/plain": [
       "<Figure size 432x288 with 1 Axes>"
      ]
     },
     "metadata": {
      "needs_background": "light"
     },
     "output_type": "display_data"
    }
   ],
   "source": [
    "\n",
    "plt.title('WEST ZONE')\n",
    "plt.ylabel('PROD_SALE_AVE')\n",
    "plt.xlabel('WEEKDAY')\n",
    "plt.bar(x=range(len(dff22['0'])),  \n",
    "        height=dff22['0']/3, \n",
    "        tick_label=dff22['SHOP_WEEKDAY'], \n",
    "        color='green', \n",
    "        )\n",
    "\n",
    "plt.show()\n"
   ]
  },
  {
   "cell_type": "code",
   "execution_count": null,
   "id": "e41c6668",
   "metadata": {},
   "outputs": [
    {
     "data": {
      "image/png": "[encoded data removed]",
      "text/plain": [
       "<Figure size 432x288 with 1 Axes>"
      ]
     },
     "metadata": {
      "needs_background": "light"
     },
     "output_type": "display_data"
    }
   ],
   "source": [
    "\n",
    "plt.title('SOUTH ZONE')\n",
    "plt.ylabel('PROD_SALE_AVE')\n",
    "plt.xlabel('WEEKDAY')\n",
    "plt.bar(x=range(len(dff23['0'])),  \n",
    "        height=dff23['0']/3, \n",
    "        tick_label=dff23['SHOP_WEEKDAY'], \n",
    "        color='green',  \n",
    "        )\n",
    "\n",
    "plt.show()\n"
   ]
  },
  {
   "cell_type": "code",
   "execution_count": null,
   "id": "4f108a33",
   "metadata": {},
   "outputs": [
    {
     "data": {
      "image/png": "[encoded data removed]",
      "text/plain": [
       "<Figure size 432x288 with 1 Axes>"
      ]
     },
     "metadata": {
      "needs_background": "light"
     },
     "output_type": "display_data"
    }
   ],
   "source": [
    "\n",
    "plt.title('NORTH ZONE')\n",
    "plt.ylabel('PROD_SALE_AVE')\n",
    "plt.xlabel('WEEKDAY')\n",
    "plt.bar(x=range(len(dff24['0'])), \n",
    "        height=dff24['0']/3, \n",
    "        tick_label=dff24['SHOP_WEEKDAY'],  \n",
    "        color='green',  \n",
    "        )\n",
    "\n",
    "plt.show()\n"
   ]
  },
  {
   "cell_type": "markdown",
   "id": "90355d73",
   "metadata": {
    "id": "a9d75545"
   },
   "source": [
    "2. Based on Q1, is there any connection between the less profitable time period and the lifestage of customer who spend more money at this period?"
   ]
  },
  {
   "cell_type": "markdown",
   "id": "bcd5862c",
   "metadata": {},
   "source": [
    "We noticed that there is data only from 8 am to 21 pm, thus we hereby define two hours as a time period group and divide them into 7 blocks. And then our idea is to calculate the average sales volume of these seven time periods on the basis of question 1. \n",
    "\n",
    "The graghs below are showing the average sales volume of 7 time periods in the northern region, and then we get the average sales volume of the four regions respectively. Secondly, we filter the time periods lower than this average sales volume, as the time period with lower profit.What's more, we filter the datas, calculating the correlation between the time period and the user's life stage. The results are shown in the following."
   ]
  },
  {
   "cell_type": "code",
   "execution_count": null,
   "id": "45991ab3",
   "metadata": {
    "id": "d25c4a72"
   },
   "outputs": [
    {
     "data": {
      "image/png": "[encoded data removed]",
      "text/plain": [
       "<Figure size 432x288 with 1 Axes>"
      ]
     },
     "metadata": {
      "needs_background": "light"
     },
     "output_type": "display_data"
    }
   ],
   "source": [
    "datas1 = data1[['SHOP_HOUR', 'STORE_REGION']].value_counts()\n",
    "\n",
    "dz1 = dff11.copy(deep=True)\n",
    "dz2 = dff12.copy(deep=True)\n",
    "dz3 = dff13.copy(deep=True)\n",
    "dz4 = dff14.copy(deep=True)\n",
    "\n",
    "def time_llist(x):\n",
    "    time_list=[]\n",
    "    for i in x:\n",
    "      if (i == 8 or i == 9):\n",
    "          time_list.append(5)\n",
    "      elif (i == 10 or i == 11):\n",
    "          time_list.append(6)\n",
    "      elif (i == 12 or i == 13):\n",
    "          time_list.append(7)\n",
    "      elif (i == 14 or i == 15):\n",
    "          time_list.append(8)\n",
    "      elif (i == 16 or i == 17):\n",
    "          time_list.append(9)\n",
    "      elif (i == 18 or i == 19):\n",
    "          time_list.append(10)\n",
    "      else:\n",
    "          time_list.append(11)\n",
    "    return time_list\n",
    "\n",
    "\n",
    "dz1['SHOP_HOURnew'] = time_llist(dz1['SHOP_HOUR'])\n",
    "d1 = dz1[['SHOP_HOURnew', '0']].value_counts()\n",
    "d11 = pd.DataFrame(d1)\n",
    "path1 = 'd:/11.csv'\n",
    "d11.to_csv(path1, sep=',', index=True, header=True)\n",
    "d2211= pd.read_csv(path1)\n",
    "\n",
    "dz2['SHOP_HOURnew'] = time_llist(dz2['SHOP_HOUR'])\n",
    "d2 = dz2[['SHOP_HOURnew', '0']].value_counts()\n",
    "d12 = pd.DataFrame(d2)\n",
    "path2 = 'd:/12.csv'\n",
    "d12.to_csv(path2, sep=',', index=True, header=True)\n",
    "d2212 = pd.read_csv(path2)\n",
    "\n",
    "dz3['SHOP_HOURnew'] = time_llist(dz3['SHOP_HOUR'])\n",
    "d3 = dz3[['SHOP_HOURnew', '0']].value_counts()\n",
    "d13 = pd.DataFrame(d3)\n",
    "path3 = 'd:/13.csv'\n",
    "d13.to_csv(path3, sep=',', index=True, header=True)\n",
    "d2213 = pd.read_csv(path3)\n",
    "\n",
    "dz4['SHOP_HOURnew'] = time_llist(dz4['SHOP_HOUR'])\n",
    "d4 = dz4[['SHOP_HOURnew', '0']].value_counts()\n",
    "d14 = pd.DataFrame(d4)\n",
    "path4 = 'd:/14.csv'\n",
    "d14.to_csv(path4, sep=',', index=True, header=True)\n",
    "d2214 = pd.read_csv(path4)\n",
    "\n",
    "\n",
    "def summ(x):\n",
    "    sum = []\n",
    "    i = 0\n",
    "    while i <14:\n",
    "        su = x.iloc[i,1]+x.iloc[i+1,1]\n",
    "        sum.append(su)\n",
    "        i += 2\n",
    "    \n",
    "    return sum\n",
    "\n",
    "\n",
    "timeindex=[5,6,7,8,9,10,11]\n",
    "\n",
    "datasum = pd.DataFrame({'timeindex': timeindex, 'sum1': summ(d2211), 'sum2': summ(\n",
    "    d2212), 'sum3': summ(d2213), 'sum4': summ(d2214)}, columns=['timeindex', 'sum1', 'sum2', 'sum3', 'sum4'])\n",
    "\n",
    "\n",
    "#drawing\n",
    "plt.title('EAST ZONE')\n",
    "plt.ylabel('PROD_SALE_AVE')\n",
    "plt.xlabel('TIMEZONE')\n",
    "plt.bar(x=range(len(datasum['sum1'])), \n",
    "        height=datasum['sum1'], \n",
    "        tick_label=datasum['timeindex'], \n",
    "        color='red', \n",
    "        )\n",
    "plt.show()\n",
    "\n"
   ]
  },
  {
   "cell_type": "code",
   "execution_count": null,
   "id": "86c162e1",
   "metadata": {},
   "outputs": [
    {
     "data": {
      "image/png": "[encoded data removed]",
      "text/plain": [
       "<Figure size 432x288 with 1 Axes>"
      ]
     },
     "metadata": {
      "needs_background": "light"
     },
     "output_type": "display_data"
    }
   ],
   "source": [
    "plt.title('WEST ZONE')\n",
    "plt.ylabel('PROD_SALE_AVE')\n",
    "plt.xlabel('TIMEZONE')\n",
    "plt.bar(x=range(len(datasum['sum2'])),  \n",
    "        height=datasum['sum2'],  \n",
    "        tick_label=datasum['timeindex'],  \n",
    "        color='red',  \n",
    "        )\n",
    "plt.show()\n"
   ]
  },
  {
   "cell_type": "code",
   "execution_count": null,
   "id": "d790f9a2",
   "metadata": {},
   "outputs": [
    {
     "data": {
      "image/png": "[encoded data removed]",
      "text/plain": [
       "<Figure size 432x288 with 1 Axes>"
      ]
     },
     "metadata": {
      "needs_background": "light"
     },
     "output_type": "display_data"
    }
   ],
   "source": [
    "plt.title('SOUTH ZONE')\n",
    "plt.ylabel('PROD_SALE_AVE')\n",
    "plt.xlabel('TIMEZONE')\n",
    "plt.bar(x=range(len(datasum['sum3'])), \n",
    "        height=datasum['sum3'],  \n",
    "        tick_label=datasum['timeindex'],  \n",
    "        color='red', \n",
    "plt.show()\n"
   ]
  },
  {
   "cell_type": "code",
   "execution_count": null,
   "id": "16def2f3",
   "metadata": {},
   "outputs": [
    {
     "data": {
      "image/png": "[encoded data removed]",
      "text/plain": [
       "<Figure size 432x288 with 1 Axes>"
      ]
     },
     "metadata": {
      "needs_background": "light"
     },
     "output_type": "display_data"
    }
   ],
   "source": [
    "plt.title('NORTH ZONE')\n",
    "plt.ylabel('PROD_SALE_AVE')\n",
    "plt.xlabel('TIMEZONE')\n",
    "plt.bar(x=range(len(datasum['sum4'])),  \n",
    "        height=datasum['sum4'],  \n",
    "        tick_label=datasum['timeindex'],  \n",
    "        color='red',  \n",
    "        )\n",
    "plt.show()\n"
   ]
  },
  {
   "cell_type": "code",
   "execution_count": null,
   "id": "dae40f36",
   "metadata": {},
   "outputs": [
    {
     "data": {
      "text/plain": [
       "timeindex       8.000000\n",
       "sum1         1703.285714\n",
       "sum2         2089.571429\n",
       "sum3         2168.285714\n",
       "sum4         2312.142857\n",
       "dtype: float64"
      ]
     },
     "execution_count": 23,
     "metadata": {},
     "output_type": "execute_result"
    }
   ],
   "source": [
    "dm=datasum.mean()\n",
    "dm"
   ]
  },
  {
   "cell_type": "code",
   "execution_count": null,
   "id": "b3fba90e",
   "metadata": {},
   "outputs": [
    {
     "name": "stdout",
     "output_type": "stream",
     "text": [
      "   timeindex  sum1\n",
      "0          5   966\n",
      "1          6  1313\n",
      "5         10  1560\n",
      "6         11  1648\n",
      "   timeindex  sum2\n",
      "0          5  1520\n",
      "1          6  1922\n",
      "5         10  1551\n",
      "6         11  1635\n",
      "   timeindex  sum3\n",
      "0          5  1397\n",
      "1          6  1983\n",
      "5         10  1514\n",
      "6         11  1789\n",
      "   timeindex  sum4\n",
      "0          5  1246\n",
      "1          6  2179\n",
      "4          9  2111\n",
      "5         10  1904\n",
      "6         11  2268\n"
     ]
    }
   ],
   "source": [
    "td1=datasum[['timeindex','sum1']][datasum['sum1']< dm[1]]\n",
    "td2=datasum[['timeindex','sum2']][datasum['sum2']< dm[2]]\n",
    "td3 = datasum[['timeindex', 'sum3']][datasum['sum3'] < dm[3]]\n",
    "td4 = datasum[['timeindex', 'sum4']][datasum['sum4'] < dm[4]]\n",
    "\n",
    "\n",
    "\n",
    "print(td1)\n",
    "print(td2)\n",
    "print(td3)\n",
    "print(td4)\n",
    "#judge result:5,6,10 are less profit TIMEZONE\n"
   ]
  },
  {
   "cell_type": "code",
   "execution_count": 17,
   "id": "ecb8189f",
   "metadata": {},
   "outputs": [
    {
     "data": {
      "text/html": [
       "<div>\n",
       "<style scoped>\n",
       "    .dataframe tbody tr th:only-of-type {\n",
       "        vertical-align: middle;\n",
       "    }\n",
       "\n",
       "    .dataframe tbody tr th {\n",
       "        vertical-align: top;\n",
       "    }\n",
       "\n",
       "    .dataframe thead th {\n",
       "        text-align: right;\n",
       "    }\n",
       "</style>\n",
       "<table border=\"1\" class=\"dataframe\">\n",
       "  <thead>\n",
       "    <tr style=\"text-align: right;\">\n",
       "      <th></th>\n",
       "      <th>SHOP_HOUR</th>\n",
       "      <th>STORE_REGION</th>\n",
       "      <th>CUST_LIFESTAGE</th>\n",
       "    </tr>\n",
       "  </thead>\n",
       "  <tbody>\n",
       "    <tr>\n",
       "      <th>SHOP_HOUR</th>\n",
       "      <td>1.00000</td>\n",
       "      <td>NaN</td>\n",
       "      <td>0.03168</td>\n",
       "    </tr>\n",
       "    <tr>\n",
       "      <th>STORE_REGION</th>\n",
       "      <td>NaN</td>\n",
       "      <td>NaN</td>\n",
       "      <td>NaN</td>\n",
       "    </tr>\n",
       "    <tr>\n",
       "      <th>CUST_LIFESTAGE</th>\n",
       "      <td>0.03168</td>\n",
       "      <td>NaN</td>\n",
       "      <td>1.00000</td>\n",
       "    </tr>\n",
       "  </tbody>\n",
       "</table>\n",
       "</div>"
      ],
      "text/plain": [
       "                SHOP_HOUR  STORE_REGION  CUST_LIFESTAGE\n",
       "SHOP_HOUR         1.00000           NaN         0.03168\n",
       "STORE_REGION          NaN           NaN             NaN\n",
       "CUST_LIFESTAGE    0.03168           NaN         1.00000"
      ]
     },
     "execution_count": 17,
     "metadata": {},
     "output_type": "execute_result"
    }
   ],
   "source": [
    "data01 = data1[((data1['SHOP_HOUR'] <= 11) & (data1['SHOP_HOUR'] >= 8))|((data1['SHOP_HOUR'] <= 19) & (data1['SHOP_HOUR'] >= 18))][['SHOP_HOUR', 'STORE_REGION', 'CUST_LIFESTAGE']]\n",
    "data01['CUST_LIFESTAGE'] = data01.CUST_LIFESTAGE.factorize()[0]\n",
    "dc1 = data01[data01['STORE_REGION'] == 1]\n",
    "dc2 = data01[data01['STORE_REGION'] == 2]\n",
    "dc3 = data01[data01['STORE_REGION'] == 3]\n",
    "dc4 = data01[data01['STORE_REGION'] == 4]\n",
    "dc1.corr()\n",
    "dc2.corr()\n",
    "dc3.corr()\n",
    "dc4.corr()"
   ]
  },
  {
   "cell_type": "markdown",
   "id": "cb35f4e8",
   "metadata": {},
   "source": [
    "After the presentation, we searched for relevant information for learning, and found a way to solve the relevance of discrete data. We used the definition of entropy to calculate the relevance of discrete data.\n",
    "\n",
    "### Entropy (Information Entropy)\n",
    "\n",
    "Entropy is defined as: the mathematical expectation of information.\n",
    "$$\n",
    "H(X)=\\sum_{}^{}p_i\\log(p_i)\n",
    "$$\n",
    "\n",
    "\n",
    "The greater the entropy, the more disordered and chaotic. The probability determines that the event entropy is the smallest = 0. The more values that a random event X can take, the larger the corresponding entropy value, the more chaotic.\n",
    "\n",
    "The samples belong to one category, and the entropy is 0. The more categories of the samples, the more uniform they are, and the greater the information entropy.\n",
    "\n",
    "### Conditional Entropy\n",
    "\n",
    "The conditional entropy of Y under X conditions indicates the degree of uncertainty of Y under X conditions. The conditional entropy will decrease relative to the original entropy.\n",
    "$$\n",
    "H(Y|X)=\\sum_{}^{}p(x_i)H(Y|X=x_i)\n",
    "$$\n",
    "\n",
    "### Correlation\n",
    "\n",
    "We can calculate the above data to calculate the correlation, you can refer to the following code：\n",
    "\n",
    "s1 & s2 is the two columns we want to find the correlation\n",
    "\n",
    "def getDiscreteCorr(s1,s2):\n",
    "    return getEntropyGain(s1,s2)/math.sqrt(getEntropy(s1)*getEntropy(s2))\n",
    "print('DiscreteCorr',getDiscreteCorr(s1,s2))\n",
    "\n",
    "But because of the actual data set we can’t determine the probability distribution, we initially guessed it as the Poisson distribution, and we don’t know how the conditional probability is expressed in python, so we could not get the code.\n"
   ]
  },
  {
   "cell_type": "markdown",
   "id": "4d14558c",
   "metadata": {
    "id": "3c1f0c5d"
   },
   "source": [
    "3. Is there any correlation between the customer frequency and the region where the shop located?\n",
    "what kinds of people    different region"
   ]
  },
  {
   "cell_type": "markdown",
   "id": "5cc3cb28",
   "metadata": {},
   "source": [
    "First of all, when dealing with this question, we first choose the specific valuable data columns for our further solution. Then we spilit those useful datas into training part and testing part for better application. \n",
    "\n",
    "After that, we import standard scaler for further data processing. Due to this step, we are able to get the results we want. Detailed steps\n",
    "are shown below."
   ]
  },
  {
   "cell_type": "code",
   "execution_count": null,
   "id": "384aad95",
   "metadata": {},
   "outputs": [],
   "source": [
    "import numpy as np\n",
    "import pandas as pd\n",
    "import matplotlib.pyplot as plt\n",
    "from sklearn.cluster import KMeans\n"
   ]
  },
  {
   "cell_type": "code",
   "execution_count": null,
   "id": "f520eda1",
   "metadata": {},
   "outputs": [],
   "source": [
    "#load data\n",
    "transaction = pd.read_csv('/content/customer_data_small.csv', engine='python')\n",
    "#view the info\n",
    "transaction.head()\n"
   ]
  },
  {
   "cell_type": "code",
   "execution_count": null,
   "id": "72f69479",
   "metadata": {},
   "outputs": [],
   "source": [
    "#borrar las NAN\n",
    "transaction = transaction.dropna()\n",
    "transaction.head()\n"
   ]
  },
  {
   "cell_type": "code",
   "execution_count": null,
   "id": "3841237c",
   "metadata": {},
   "outputs": [],
   "source": [
    "transaction.dtypes\n"
   ]
  },
  {
   "cell_type": "code",
   "execution_count": null,
   "id": "5cc5bc35",
   "metadata": {},
   "outputs": [],
   "source": [
    "#Se elijen las variables a utilizar We choose the variables\n",
    "#Se pasan los datos de obj a int Convert\n",
    "transaction.head()\n",
    "\n",
    "column_subset = ['QUANTITY', 'SPEND', 'PROD_CODE', 'CUST_CODE']\n",
    "\n",
    "df = transaction[column_subset]\n",
    "df.head()\n"
   ]
  },
  {
   "cell_type": "code",
   "execution_count": null,
   "id": "aa575b46",
   "metadata": {},
   "outputs": [],
   "source": [
    "df.dtypes\n"
   ]
  },
  {
   "cell_type": "code",
   "execution_count": null,
   "id": "61c65d55",
   "metadata": {},
   "outputs": [],
   "source": [
    "df.PROD_CODE = df.PROD_CODE.str.replace('PRD', '').astype(int)\n",
    "df.CUST_CODE = df.CUST_CODE.str.replace('CUST', '').astype(int)\n",
    "df.head()\n"
   ]
  },
  {
   "cell_type": "code",
   "execution_count": null,
   "id": "bce678a1",
   "metadata": {},
   "outputs": [],
   "source": [
    "#las variables x son las dependientes y la variable y es la independiente\n",
    "x = df[['QUANTITY', 'SPEND']]\n",
    "y = df['PROD_CODE']\n"
   ]
  },
  {
   "cell_type": "code",
   "execution_count": null,
   "id": "a751af64",
   "metadata": {},
   "outputs": [],
   "source": [
    "#para todas las filas que tienen el mismo CUST_CODE, se deben sumar para SPEND con sklearn.decomposition\n",
    "#for all rows that have the same CUST_CODE, they must be summed for SPEND with sklearn.decomposition\n",
    "from sklearn.decomposition import PCA\n",
    "pca = PCA(n_components=2)\n"
   ]
  },
  {
   "cell_type": "code",
   "execution_count": null,
   "id": "52d7ab04",
   "metadata": {},
   "outputs": [],
   "source": [
    "from sklearn.preprocessing import scale\n",
    "x_std = scale(x.values)\n"
   ]
  },
  {
   "cell_type": "code",
   "execution_count": null,
   "id": "f571076b",
   "metadata": {},
   "outputs": [],
   "source": [
    "pca.fit_transform(x_std)\n"
   ]
  },
  {
   "cell_type": "code",
   "execution_count": null,
   "id": "fa8fb0d4",
   "metadata": {},
   "outputs": [],
   "source": [
    "explained_variance = pd.DataFrame(pca.explained_variance_)\n",
    "ax = explained_variance.head().plot.bar(legend=False, figsize=(4, 4))\n",
    "ax.set_xlabel('Quantity Spend')\n"
   ]
  },
  {
   "cell_type": "markdown",
   "id": "29c42e3d",
   "metadata": {
    "id": "e2f23fbd"
   },
   "source": [
    "4. Is there any correlation between the kind of product and the customers’ price sensitivity?"
   ]
  },
  {
   "cell_type": "markdown",
   "id": "ad59ab64",
   "metadata": {},
   "source": [
    "As for this question, we try to figure out the correlations between those variables. Then we use some evaluation methods such as recall, precision, f1-score and support to check the results."
   ]
  },
  {
   "cell_type": "code",
   "execution_count": null,
   "id": "fffac62a",
   "metadata": {},
   "outputs": [],
   "source": [
    "# Import packages\n",
    "import matplotlib.pyplot as plt\n",
    "import numpy as np\n",
    "import collections\n",
    "import glob\n",
    "import pprint\n",
    "import pandas as pd\n",
    "import seaborn as sns\n",
    "from sklearn.cluster import KMeans\n",
    "from sklearn.datasets import make_blobs\n",
    "# https://www.scikit-yb.org/en/latest/api/cluster/elbow.html\n",
    "from yellowbrick.cluster import KElbowVisualizer\n",
    "# Customizing matplotlib\n",
    "plt.rcParams['figure.figsize'] = (20, 10)\n",
    "plt.style.use('ggplot')\n",
    "transaction = pd.read_csv('/content/customer_data_small.csv')\n",
    "transaction.head()\n"
   ]
  },
  {
   "cell_type": "code",
   "execution_count": null,
   "id": "af6ce030",
   "metadata": {},
   "outputs": [],
   "source": [
    "transaction.describe(include='all')\n"
   ]
  },
  {
   "cell_type": "code",
   "execution_count": null,
   "id": "574dd1de",
   "metadata": {},
   "outputs": [],
   "source": [
    "transaction = transaction.dropna()\n"
   ]
  },
  {
   "cell_type": "code",
   "execution_count": null,
   "id": "efe9ef0a",
   "metadata": {},
   "outputs": [],
   "source": [
    "transaction.dtypes"
   ]
  },
  {
   "cell_type": "code",
   "execution_count": null,
   "id": "b89b9fda",
   "metadata": {},
   "outputs": [],
   "source": [
    "transaction[\"CUST_PRICE_SENSITIVITY\"] = transaction[\"CUST_PRICE_SENSITIVITY\"].astype(\n",
    "    'category')\n",
    "transaction[\"CUST_LIFESTAGE\"] = transaction[\"CUST_LIFESTAGE\"].astype(\n",
    "    'category')\n",
    "transaction[\"BASKET_SIZE\"] = transaction[\"BASKET_SIZE\"].astype('category')\n",
    "transaction[\"STORE_REGION\"] = transaction[\"STORE_REGION\"].astype('category')\n",
    "transaction[\"BASKET_PRICE_SENSITIVITY\"] = transaction[\"BASKET_PRICE_SENSITIVITY\"].astype(\n",
    "    'category')\n",
    "transaction.dtypes\n"
   ]
  },
  {
   "cell_type": "code",
   "execution_count": null,
   "id": "7c52a72c",
   "metadata": {},
   "outputs": [],
   "source": [
    "transaction[\"CUST_PRICE_SENSITIVITY_cat\"] = transaction[\"CUST_PRICE_SENSITIVITY\"].cat.codes\n",
    "transaction[\"CUST_LIFESTAGE_cat\"] = transaction[\"CUST_LIFESTAGE\"].cat.codes\n",
    "transaction[\"BASKET_SIZE_cat\"] = transaction[\"BASKET_SIZE\"].cat.codes\n",
    "transaction[\"STORE_REGION_cat\"] = transaction[\"STORE_REGION\"].cat.codes\n",
    "transaction[\"BASKET_PRICE_SENSITIVITY_cat\"] = transaction[\"BASKET_PRICE_SENSITIVITY\"].cat.codes\n",
    "transaction.head()\n"
   ]
  },
  {
   "cell_type": "code",
   "execution_count": null,
   "id": "a1c71428",
   "metadata": {},
   "outputs": [],
   "source": [
    "transaction.dtypes\n"
   ]
  },
  {
   "cell_type": "code",
   "execution_count": null,
   "id": "8d941c2d",
   "metadata": {},
   "outputs": [],
   "source": [
    "transaction.shape\n",
    "transaction.nunique()\n"
   ]
  },
  {
   "cell_type": "code",
   "execution_count": null,
   "id": "c8fa7bb6",
   "metadata": {},
   "outputs": [],
   "source": [
    "column_subset = ['QUANTITY', 'SPEND', 'CUST_LIFESTAGE_cat', 'CUST_PRICE_SENSITIVITY_cat',\n",
    "                 'BASKET_SIZE_cat', 'STORE_REGION_cat', 'BASKET_PRICE_SENSITIVITY_cat']\n",
    "\n",
    "df = transaction[column_subset]\n",
    "df.head()\n"
   ]
  },
  {
   "cell_type": "code",
   "execution_count": null,
   "id": "1f5c277e",
   "metadata": {},
   "outputs": [],
   "source": [
    "from sklearn.model_selection import train_test_split\n",
    "X = df.drop(['CUST_PRICE_SENSITIVITY_cat'], axis=1)\n",
    "y = df['CUST_PRICE_SENSITIVITY_cat']\n",
    "X_train, X_test, y_train, y_test = train_test_split(\n",
    "    X, y, test_size=0.2, random_state=0)\n"
   ]
  },
  {
   "cell_type": "code",
   "execution_count": null,
   "id": "9eb5ff9d",
   "metadata": {},
   "outputs": [],
   "source": [
    "from sklearn.ensemble import RandomForestClassifier\n",
    "classifier = RandomForestClassifier(n_estimators=200, random_state=0)\n",
    "classifier.fit(X_train, y_train)\n",
    "predictions = classifier.predict(X_test)\n"
   ]
  },
  {
   "cell_type": "code",
   "execution_count": null,
   "id": "977e432d",
   "metadata": {},
   "outputs": [],
   "source": [
    "from sklearn.metrics import classification_report, accuracy_score\n",
    "print(classification_report(y_test, predictions))\n",
    "print(accuracy_score(y_test, predictions))\n"
   ]
  },
  {
   "cell_type": "code",
   "execution_count": null,
   "id": "b26d8e31",
   "metadata": {},
   "outputs": [],
   "source": [
    "feat_importances = pd.Series(classifier.feature_importances_, index=X.columns)\n",
    "feat_importances.nlargest(10).plot(kind='barh')\n"
   ]
  },
  {
   "cell_type": "markdown",
   "id": "c70285b9",
   "metadata": {
    "id": "05c5577c"
   },
   "source": [
    "5. Identify the most popular product with types of customers of the store. Further, predict that if a customer buys a product 'A', then in future they will buy a product 'B’ . ( A & B mean any category of the product )"
   ]
  },
  {
   "cell_type": "markdown",
   "id": "22cf5c33",
   "metadata": {},
   "source": [
    "When considering question 5,we read about some references, we then find the priori algorithm is the most suitable way to solve the second subquestion. By setting the minimum support and minimum confidence due to the large amount of data, although there are a lot of products, we can still set a relatively large minimum confidence level to filter most useless products and obtain products with relatively large correlations.\n",
    "\n",
    "The results are shown in the following."
   ]
  },
  {
   "cell_type": "markdown",
   "id": "4fddeafd",
   "metadata": {},
   "source": [
    "5.1 preprocess"
   ]
  },
  {
   "cell_type": "code",
   "execution_count": null,
   "id": "0c618b44",
   "metadata": {},
   "outputs": [],
   "source": [
    "import sklearn\n",
    "import pandas as pd\n",
    "import matplotlib as plt\n",
    "import numpy as np\n",
    "import seaborn as sns\n",
    "import matplotlib.pyplot as plt\n",
    "\n",
    "data = pd.read_csv(\n",
    "    'customer_data_large.csv')\n",
    "data.drop('Unnamed: 0', axis=1, inplace=True)\n",
    "data.drop('0', axis=1, inplace=True)\n",
    "data.drop('1', axis=1, inplace=True)\n",
    "data.columns = ['SHOP_DATE', 'SHOP_WEEKDAY', 'SHOP_HOUR', 'QUANTITY',\n",
    "                'SPEND', 'PRODUCT_CODE', 'PRODUCT_CODE10', 'PRODUCT_CODE20', 'PRODUCT_CODE30', 'PRODUCT_CODE40', 'CUSTOMER_CODE', 'CUST_PRICE_SENSITIVITY', 'CUST_LIFESTAGE', 'BASKET_ID', 'BASKET_SIZE', 'BASKET_PRICE_SENSITIVITY', 'BASKET_TYPE', 'BASKET_DOMINANT_MISSION', 'STORE_CODE', 'STORE_FORMAT', 'STORE_REGION']\n",
    "data = data.dropna()\n",
    "df = pd.DataFrame(data, columns=data.columns)\n",
    "\n",
    "df1 = df[['BASKET_ID', 'PRODUCT_CODE']]\n",
    "df1.reset_index(inplace=True)\n",
    "gb = df1.groupby('BASKET_ID')\n",
    "result = gb['PRODUCT_CODE'].unique()\n",
    "df2 = result.to_frame()\n",
    "df2.to_excel('C:/Users/UniqueTropic/Experiment/DataSet/1.xls')\n"
   ]
  },
  {
   "cell_type": "markdown",
   "id": "119d5767",
   "metadata": {},
   "source": [
    "5.2 main"
   ]
  },
  {
   "cell_type": "code",
   "execution_count": null,
   "id": "d25dc2c7",
   "metadata": {},
   "outputs": [],
   "source": [
    "#-*- coding: utf-8 -*-\n",
    "\n",
    "from __future__ import print_function\n",
    "import pandas as pd\n",
    "from apriori import * \n",
    "\n",
    "inputfile = 'C:/Users/UniqueTropic/Experiment/DataSet//1.xls'\n",
    "outputfile = 'C:/Users/UniqueTropic/Experiment/DataSet//apriori_rules.xls'\n",
    "data = pd.read_excel(inputfile, header=None)\n",
    "\n",
    "print(u'\\ncovert to martix0-1...')\n",
    "\n",
    "\n",
    "def ct(x): return pd.Series(1, index=x[pd.notnull(x)])  \n",
    "\n",
    "\n",
    "b = map(ct, data.values)  \n",
    "data = pd.DataFrame(list(b)).fillna(0) \n",
    "print(u'\\n done')\n",
    "del b \n",
    "\n",
    "support = 0.2  \n",
    "confidence = 0.5  \n",
    "ms = '---'  # default'--'，\n",
    "\n",
    "find_rule(data, support, confidence, ms).to_excel(outputfile)\n"
   ]
  },
  {
   "cell_type": "markdown",
   "id": "a4dd3636",
   "metadata": {},
   "source": [
    "5.3 apriori"
   ]
  },
  {
   "cell_type": "code",
   "execution_count": null,
   "id": "057607e1",
   "metadata": {},
   "outputs": [],
   "source": [
    "#-*- coding: utf-8 -*-\n",
    "from __future__ import print_function\n",
    "import pandas as pd\n",
    "\n",
    "\n",
    "def connect_string(x, ms):\n",
    "  x = list(map(lambda i:sorted(i.split(ms)), x))\n",
    "  l = len(x[0])\n",
    "  r = []\n",
    "  for i in range(len(x)):\n",
    "    for j in range(i,len(x)):\n",
    "      if x[i][:l-1] == x[j][:l-1] and x[i][l-1] != x[j][l-1]:\n",
    "        r.append(x[i][:l-1]+sorted([x[j][l-1],x[i][l-1]]))\n",
    "  return r\n",
    "\n",
    "def find_rule(d, support, confidence, ms = u'--'):\n",
    "  result = pd.DataFrame(index=['support', 'confidence']) \n",
    "\n",
    "  support_series = 1.0*d.sum()/len(d) \n",
    "  column = list(support_series[support_series > support].index) \n",
    "  k = 0\n",
    "\n",
    "  while len(column) > 1:\n",
    "    k = k+1\n",
    "    print(u'\\n in the  %s search...' %k)\n",
    "    column = connect_string(column, ms)\n",
    "    print(u'number：%s...' %len(column))\n",
    "    sf = lambda i: d[i].prod(axis=1, numeric_only = True) \n",
    "\n",
    "   \n",
    "    d_2 = pd.DataFrame(list(map(sf,column)), index = [ms.join(i) for i in column]).T\n",
    "\n",
    "    support_series_2 = 1.0*d_2[[ms.join(i) for i in column]].sum()/len(d) \n",
    "    column = list(support_series_2[support_series_2 > support].index)\n",
    "    support_series = support_series.append(support_series_2)\n",
    "    column2 = []\n",
    "\n",
    "    for i in column: \n",
    "      i = i.split(ms)\n",
    "      for j in range(len(i)):\n",
    "        column2.append(i[:j]+i[j+1:]+i[j:j+1])\n",
    "\n",
    "    cofidence_series = pd.Series(index=[ms.join(i) for i in column2])\n",
    "\n",
    "    for i in column2: \n",
    "      cofidence_series[ms.join(i)] = support_series[ms.join(sorted(i))]/support_series[ms.join(i[:len(i)-1])]\n",
    "\n",
    "    for i in cofidence_series[cofidence_series > confidence].index:\n",
    "      result[i] = 0.0\n",
    "      result[i]['confidence'] = cofidence_series[i]\n",
    "      result[i]['support'] = support_series[ms.join(sorted(i.split(ms)))]\n",
    "\n",
    "  result = result.T.sort_values(['confidence','support'], ascending = False)\n",
    "  print(u'\\n result：')\n",
    "  print(result)\n",
    "\n",
    "  return result"
   ]
  },
  {
   "cell_type": "markdown",
   "id": "eaf3999d",
   "metadata": {
    "id": "YmTN9Pr7Cixf"
   },
   "source": []
  },
  {
   "cell_type": "markdown",
   "id": "b8b790df",
   "metadata": {
    "id": "d4ba64c6"
   },
   "source": [
    "6. Can you make a sales prediction,and find a solution based on mathmatical model."
   ]
  },
  {
   "cell_type": "markdown",
   "id": "aa9e0963",
   "metadata": {},
   "source": [
    "Since our team needs to make a prediction, our first intuitive thought is to apply supervised learning method. \n",
    "\n",
    "Then first of all, we make a further processing on our datas. Then we use linear regression to fit our datas, training a proper model here. After doing this, we try to make our predictions"
   ]
  },
  {
   "cell_type": "code",
   "execution_count": null,
   "id": "130df092",
   "metadata": {
    "id": "b6c75744"
   },
   "outputs": [],
   "source": [
    "# Import packages\n",
    "import matplotlib.pyplot as plt\n",
    "import numpy as np\n",
    "import collections\n",
    "import glob\n",
    "import pprint\n",
    "import pandas as pd\n",
    "import seaborn as sns\n",
    "from sklearn.cluster import KMeans\n",
    "from sklearn.datasets import make_blobs\n",
    "# https://www.scikit-yb.org/en/latest/api/cluster/elbow.html\n",
    "from yellowbrick.cluster import KElbowVisualizer\n",
    "# Customizing matplotlib\n",
    "plt.rcParams['figure.figsize'] = (20, 10)\n",
    "plt.style.use('ggplot')\n"
   ]
  },
  {
   "cell_type": "code",
   "execution_count": null,
   "id": "ecd34fba",
   "metadata": {},
   "outputs": [],
   "source": [
    "\n",
    "transaction = pd.read_csv('/content/customer_data_small.csv')\n",
    "transaction.head()"
   ]
  },
  {
   "cell_type": "code",
   "execution_count": null,
   "id": "279f0da7",
   "metadata": {},
   "outputs": [],
   "source": [
    "transaction = transaction.dropna()\n",
    "transaction.head()\n"
   ]
  },
  {
   "cell_type": "code",
   "execution_count": null,
   "id": "a2304599",
   "metadata": {},
   "outputs": [],
   "source": [
    "transaction.PROD_CODE = transaction.PROD_CODE.str.replace(\n",
    "    'PRD', '').astype(int)\n",
    "transaction.head()"
   ]
  },
  {
   "cell_type": "code",
   "execution_count": null,
   "id": "a243d35e",
   "metadata": {},
   "outputs": [],
   "source": [
    "transaction[\"CUST_PRICE_SENSITIVITY\"] = transaction[\"CUST_PRICE_SENSITIVITY\"].astype(\n",
    "    'category')\n",
    "transaction[\"CUST_LIFESTAGE\"] = transaction[\"CUST_LIFESTAGE\"].astype(\n",
    "    'category')\n",
    "transaction[\"BASKET_SIZE\"] = transaction[\"BASKET_SIZE\"].astype('category')\n",
    "transaction[\"STORE_REGION\"] = transaction[\"STORE_REGION\"].astype('category')\n",
    "transaction[\"BASKET_PRICE_SENSITIVITY\"] = transaction[\"BASKET_PRICE_SENSITIVITY\"].astype(\n",
    "    'category')\n",
    "transaction.dtypes\n"
   ]
  },
  {
   "cell_type": "code",
   "execution_count": null,
   "id": "9d37ceba",
   "metadata": {},
   "outputs": [],
   "source": [
    "transaction[\"CUST_PRICE_SENSITIVITY_cat\"] = transaction[\"CUST_PRICE_SENSITIVITY\"].cat.codes\n",
    "transaction[\"CUST_LIFESTAGE_cat\"] = transaction[\"CUST_LIFESTAGE\"].cat.codes\n",
    "transaction[\"BASKET_SIZE_cat\"] = transaction[\"BASKET_SIZE\"].cat.codes\n",
    "transaction[\"STORE_REGION_cat\"] = transaction[\"STORE_REGION\"].cat.codes\n",
    "transaction[\"BASKET_PRICE_SENSITIVITY_cat\"] = transaction[\"BASKET_PRICE_SENSITIVITY\"].cat.codes\n",
    "transaction.head()\n"
   ]
  },
  {
   "cell_type": "code",
   "execution_count": null,
   "id": "45983ce4",
   "metadata": {},
   "outputs": [],
   "source": [
    "transaction.shape\n",
    "transaction.nunique()\n"
   ]
  },
  {
   "cell_type": "code",
   "execution_count": null,
   "id": "07ae09ab",
   "metadata": {},
   "outputs": [],
   "source": [
    "column_subset = ['SPEND', 'QUANTITY', 'PROD_CODE', 'CUST_CODE',\n",
    "                 'CUST_PRICE_SENSITIVITY_cat', 'CUST_LIFESTAGE_cat', 'STORE_REGION_cat']\n",
    "\n",
    "df = transaction[column_subset]\n",
    "df.head()\n"
   ]
  },
  {
   "cell_type": "code",
   "execution_count": null,
   "id": "b8bf7d8b",
   "metadata": {},
   "outputs": [],
   "source": [
    "from sklearn import linear_model\n",
    "from sklearn import datasets  # imports datasets from scikit-learn\n"
   ]
  },
  {
   "cell_type": "code",
   "execution_count": null,
   "id": "56e0ee11",
   "metadata": {},
   "outputs": [],
   "source": [
    "X = df.drop(['SPEND'], axis=1)\n",
    "y = df['SPEND']\n",
    "df.describe()\n"
   ]
  },
  {
   "cell_type": "code",
   "execution_count": null,
   "id": "56c7fc9c",
   "metadata": {},
   "outputs": [],
   "source": [
    "from sklearn.linear_model import LinearRegression\n"
   ]
  },
  {
   "cell_type": "code",
   "execution_count": null,
   "id": "76ea83a7",
   "metadata": {},
   "outputs": [],
   "source": [
    "predictors = ['QUANTITY', 'PROD_CODE', 'CUST_CODE',\n",
    "              'CUST_PRICE_SENSITIVITY_cat', 'CUST_LIFESTAGE_cat', 'STORE_REGION_cat']\n",
    "outcome = 'SPEND'\n",
    "\n",
    "lm = LinearRegression()\n",
    "lm.fit(df[predictors], df[outcome])\n",
    "\n",
    "print(f'Intercept: {lm.intercept_:.3f}')\n",
    "print('Coefficients:')\n",
    "for name, coef in zip(predictors, lm.coef_):\n",
    "    print(f' {name}: {coef}')\n"
   ]
  },
  {
   "cell_type": "code",
   "execution_count": null,
   "id": "ebd9664f",
   "metadata": {},
   "outputs": [],
   "source": [
    "from sklearn.metrics import r2_score, mean_squared_error\n",
    "import numpy as np\n",
    "\n",
    "fitted = lm.predict(df[predictors])\n",
    "RMSE = np.sqrt(mean_squared_error(df[outcome], fitted))\n",
    "r2 = r2_score(df[outcome], fitted)\n",
    "print(f'RMSE: {RMSE:.0f}')\n",
    "print(f'r2: {r2:.4f}')\n"
   ]
  },
  {
   "cell_type": "code",
   "execution_count": null,
   "id": "3c2a50cd",
   "metadata": {},
   "outputs": [],
   "source": [
    "additional_columns = ['QUANTITY', 'CUST_PRICE_SENSITIVITY_cat',\n",
    "                      'CUST_LIFESTAGE_cat', 'STORE_REGION_cat']\n",
    "\n",
    "for col in additional_columns:\n",
    "  col_name = col+'_squared'\n",
    "  df[col_name] = df[col]**2\n",
    "  predictors.append(col_name)\n",
    "df.describe()\n"
   ]
  },
  {
   "cell_type": "code",
   "execution_count": null,
   "id": "b134c742",
   "metadata": {},
   "outputs": [],
   "source": [
    "lm.fit(df[predictors], df[outcome])\n",
    "\n",
    "print(f'Intercept: {lm.intercept_:.3f}')\n",
    "print('Coefficients:')\n",
    "for name, coef in zip(predictors, lm.coef_):\n",
    "    print(f' {name}: {coef}')\n"
   ]
  },
  {
   "cell_type": "code",
   "execution_count": null,
   "id": "7bce7aed",
   "metadata": {},
   "outputs": [],
   "source": [
    "from sklearn.metrics import r2_score, mean_squared_error\n",
    "import numpy as np\n",
    "\n",
    "fitted = lm.predict(df[predictors])\n",
    "RMSE = np.sqrt(mean_squared_error(df[outcome], fitted))\n",
    "r2 = r2_score(df[outcome], fitted)\n",
    "print(f'RMSE: {RMSE:.0f}')\n",
    "print(f'r2: {r2:.4f}')\n"
   ]
  },
  {
   "cell_type": "markdown",
   "id": "41bdfc83",
   "metadata": {
    "id": "1di3FD4gDOQS"
   },
   "source": [
    "## Conclusion\n",
    "\n",
    "By solving all the questions, we believe we obtain enough information. \n",
    "\n",
    "According to the conclusions from question 1 and 2 , the manager can assign their workforce better. Based on question 3 , the managers can knows better about the relation between the customer frequency and region. As for question 4 and 5, the managers can know the preference of the products and they can import different products for different costomers to make more profits. By the conclusion of question 6, they can try to make a sales prediction. All the results can be seen above.\n",
    "\n",
    "In a nutshell, after reading all the conlusions, we believe the managers can make more optimal decisions to make more profits."
   ]
  },
  {
   "cell_type": "code",
   "execution_count": null,
   "id": "508d768e",
   "metadata": {
    "id": "JdS6s6zGEcdc"
   },
   "outputs": [],
   "source": []
  }
 ],
 "metadata": {
  "colab": {
   "name": "Comments - Yuhan+Ziyi+Yangye+Oscar.ipynb",
   "provenance": []
  },
  "interpreter": {
   "hash": "f7deabdf8a62fffb48075b56cd5aad55cbe5683d503531551854af55eaf5ce0f"
  },
  "kernelspec": {
   "display_name": "Python 3",
   "language": "python",
   "name": "python3"
  },
  "language_info": {
   "codemirror_mode": {
    "name": "ipython",
    "version": 3
   },
   "file_extension": ".py",
   "mimetype": "text/x-python",
   "name": "python",
   "nbconvert_exporter": "python",
   "pygments_lexer": "ipython3",
   "version": "3.7.6"
  }
 },
 "nbformat": 4,
 "nbformat_minor": 5
}
